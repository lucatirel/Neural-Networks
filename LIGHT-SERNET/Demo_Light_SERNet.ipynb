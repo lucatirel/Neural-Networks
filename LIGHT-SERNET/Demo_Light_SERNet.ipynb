{
 "cells": [
  {
   "cell_type": "code",
   "execution_count": 1,
   "metadata": {
    "id": "_i_LBBK1lmar"
   },
   "outputs": [],
   "source": [
    "from IPython.display import clear_output"
   ]
  },
  {
   "cell_type": "code",
   "execution_count": null,
   "metadata": {
    "id": "r2LQsvnPkoJI"
   },
   "outputs": [],
   "source": [
    "!wget -O EMO-DB.zip http://emodb.bilderbar.info/download/download.zip"
   ]
  },
  {
   "cell_type": "code",
   "execution_count": 3,
   "metadata": {
    "id": "OM8oeS2akwiG"
   },
   "outputs": [],
   "source": [
    "!git clone https://github.com/AryaAftab/LIGHT-SERNET.git\n",
    "\n",
    "!mv /content/EMO-DB.zip /content/LIGHT-SERNET/data\n",
    "!unzip /content/LIGHT-SERNET/data/EMO-DB.zip -d /content/LIGHT-SERNET/data/EMO-DB\n",
    "\n",
    "clear_output()"
   ]
  },
  {
   "cell_type": "code",
   "execution_count": 4,
   "metadata": {
    "id": "_V9x3Nv7k-Oa"
   },
   "outputs": [],
   "source": [
    "import os\n",
    "\n",
    "os.chdir(\"/content/LIGHT-SERNET\")"
   ]
  },
  {
   "cell_type": "code",
   "execution_count": null,
   "metadata": {
    "id": "4r6j1jhqmT80"
   },
   "outputs": [],
   "source": [
    "!python train.py -dn \"EMO-DB\" -id 3 -at \"all\" -ln \"cross_entropy\" -v 0 -it \"mfcc\" -c \"ram\" -m true"
   ]
  },
  {
   "cell_type": "code",
   "execution_count": null,
   "metadata": {
    "id": "05cC19rtIUL2"
   },
   "outputs": [],
   "source": []
  }
 ],
 "metadata": {
  "accelerator": "GPU",
  "colab": {
   "collapsed_sections": [],
   "name": "Demo-Light-SERNet.ipynb",
   "provenance": []
  },
  "kernelspec": {
   "display_name": "Python 3",
   "language": "python",
   "name": "python3"
  },
  "language_info": {
   "codemirror_mode": {
    "name": "ipython",
    "version": 3
   },
   "file_extension": ".py",
   "mimetype": "text/x-python",
   "name": "python",
   "nbconvert_exporter": "python",
   "pygments_lexer": "ipython3",
   "version": "3.8.12"
  }
 },
 "nbformat": 4,
 "nbformat_minor": 1
}
